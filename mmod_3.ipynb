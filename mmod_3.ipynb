{
 "cells": [
  {
   "cell_type": "markdown",
   "metadata": {},
   "source": [
    "### Тонко Ксения, 853503  "
   ]
  },
  {
   "cell_type": "code",
   "execution_count": 1,
   "metadata": {},
   "outputs": [],
   "source": [
    "import numpy as np\n",
    "import heapq\n",
    "import pandas as pd\n",
    "import math\n",
    "from enum import Enum, auto\n",
    "import matplotlib.pyplot as plt"
   ]
  },
  {
   "cell_type": "code",
   "execution_count": 2,
   "metadata": {},
   "outputs": [],
   "source": [
    "class StatusType(Enum):\n",
    "    not_handled = auto()\n",
    "    rejected = auto()\n",
    "    canceled = auto()"
   ]
  },
  {
   "cell_type": "code",
   "execution_count": 3,
   "metadata": {},
   "outputs": [],
   "source": [
    "class Application:\n",
    "    ID = 0\n",
    "    \n",
    "    def __init__(self, exponential_law_param, current_time):\n",
    "        Application.ID += 1\n",
    "        self.id = self.ID \n",
    "        self.start_time = current_time\n",
    "        self.end_time = current_time + np.random.exponential(1 / exponential_law_param)\n",
    "        self.is_rejected = False\n",
    "        self.time_in_system = 0\n",
    "        self.current_status = StatusType.not_handled\n",
    "        \n",
    "    def is_rejected(self, current_time):\n",
    "        return current_time >= self.end_time and self.was_in_queue\n",
    "    \n",
    "    \n",
    "    def update_app_time_in_system(self, _time):\n",
    "        self.time_in_system = _time - self.start_time\n",
    "        "
   ]
  },
  {
   "cell_type": "code",
   "execution_count": 4,
   "metadata": {},
   "outputs": [],
   "source": [
    "class Channel:\n",
    "    ID = 0\n",
    "    \n",
    "    def __init__(self, flow_service_intensity, Z):\n",
    "        Channel.ID += 1\n",
    "        self.id = self.ID\n",
    "        self.flow_service_intensity = flow_service_intensity\n",
    "        self.free = True\n",
    "        self.service_time_end = None\n",
    "        self.Z = Z\n",
    "        \n",
    "    def add_application(self, current_time):\n",
    "        self.service_time_end = (current_time + np.random.exponential(1 / self.flow_service_intensity) + \n",
    "                                 np.random.exponential(1 / self.Z))\n",
    "        self.free = False\n",
    "        \n",
    "    def free_channel(self, current_time):\n",
    "        self.free = True\n",
    "        self.service_time_end = None\n",
    "        "
   ]
  },
  {
   "cell_type": "code",
   "execution_count": 5,
   "metadata": {},
   "outputs": [],
   "source": [
    "class SMO:\n",
    "    def __init__(self, \n",
    "                channels_count, \n",
    "                queue_amount, \n",
    "                flow_request_intensity, \n",
    "                flow_service_intensity,\n",
    "                exponential_law_param,\n",
    "                requests_amount,\n",
    "                update_time_interval = 0.001\n",
    "               ):\n",
    "        self.queue_amount = queue_amount\n",
    "        self.channels_count = channels_count\n",
    "        self.flow_request_intensity = flow_request_intensity\n",
    "        self.flow_service_intensity = flow_service_intensity\n",
    "        self.exponential_law_param = exponential_law_param       \n",
    "        self.requests_amount = requests_amount\n",
    "        self.all_requests_amount = requests_amount\n",
    "        self.update_time_interval = update_time_interval\n",
    "        \n",
    "        self.current_time = 0\n",
    "        self.time_to_add_application = np.random.exponential(1 / flow_request_intensity)\n",
    "        self.queue = []\n",
    "        self.running_channels = []\n",
    "        self.free_channels = [Channel(flow_service_intensity, exponential_law_param) \n",
    "                              for _ in range(channels_count)]\n",
    "        Application.ID = 0\n",
    "        Channel.ID = 0\n",
    "        \n",
    "        self.rejection = 0\n",
    "        self.cancelation = 0\n",
    "        self.working_channels = []\n",
    "        self.queue_sizes = []\n",
    "        self.current_apps = []\n",
    "        self.app_queue_times = []\n",
    "        self.app_system_times = []\n",
    "        self.requests = 0\n",
    "    \n",
    "    def update_with_time(self):\n",
    "        self.service_requests()\n",
    "        self.get_stats()\n",
    "        self.current_time += self.update_time_interval\n",
    "        \n",
    "    def run(self):\n",
    "        while self.requests_amount:\n",
    "            if self.current_time >= self.time_to_add_application:\n",
    "                self.new_request()\n",
    "                self.time_to_add_application += np.random.exponential(1 / self.flow_request_intensity)\n",
    "            self.update_with_time()\n",
    "        while len(self.running_channels):\n",
    "            self.update_with_time()\n",
    "            \n",
    "    def new_request(self):\n",
    "        self.requests_amount -=1\n",
    "        app = Application(self.exponential_law_param, self.current_time)\n",
    "        if self.free_channels:\n",
    "            channel = self.free_channels.pop()\n",
    "            \n",
    "            app.update_app_time_in_system(self.current_time)\n",
    "            self.app_queue_times.append(app.time_in_system)\n",
    "            \n",
    "            channel.add_application(self.current_time)\n",
    "            app.update_app_time_in_system(channel.service_time_end)\n",
    "            self.app_system_times.append(app.time_in_system)\n",
    "            \n",
    "            heapq.heappush(self.running_channels, (channel.service_time_end, channel.id, channel))\n",
    "        else:\n",
    "            if self.queue_amount > len(self.queue):\n",
    "                heapq.heappush(self.queue, (app.end_time, app.id, app))\n",
    "            else:\n",
    "                if len(self.queue) and self.queue[0][0] < app.end_time:\n",
    "                    rejected_app = heapq.heappushpop(self.queue, (app.end_time, app.id, app))[2]\n",
    "                    self.add_cancel(rejected_app)\n",
    "                else:\n",
    "                    self.add_cancel(app)\n",
    "    \n",
    "    def service_requests(self):\n",
    "        while self.running_channels and self.current_time >= self.running_channels[0][0]:\n",
    "            channel = heapq.heappop(self.running_channels)[2]\n",
    "            channel.free_channel(self.current_time)\n",
    "            self.free_channels.append(channel)\n",
    "            self.requests +=1\n",
    "        while self.queue and self.queue[0][0] < self.current_time:            \n",
    "            end_time, _, app = heapq.heappop(self.queue)\n",
    "            self.add_reject(app)\n",
    "        while self.queue and self.free_channels:\n",
    "            end_time, _, app = heapq.heappop(self.queue)\n",
    "            \n",
    "            app.update_app_time_in_system(self.current_time)\n",
    "            self.app_queue_times.append(app.time_in_system)\n",
    "            \n",
    "            channel = self.free_channels.pop()\n",
    "            channel.add_application(self.current_time)\n",
    "            \n",
    "            channel.add_application(self.current_time)\n",
    "            app.update_app_time_in_system(self.current_time)\n",
    "            self.app_system_times.append(app.time_in_system)\n",
    "            \n",
    "            heapq.heappush(self.running_channels, (channel.service_time_end, channel.id, channel))\n",
    "            \n",
    "    def get_stats(self):\n",
    "        self.working_channels.append(len(self.running_channels))\n",
    "        self.queue_sizes.append(len(self.queue))\n",
    "        self.current_apps.append(len(self.running_channels) + len(self.queue))\n",
    "            \n",
    "    def add_reject(self, app):\n",
    "        app.is_rejected = True\n",
    "        app.current_status = StatusType.rejected\n",
    "        self.rejection += 1\n",
    "        \n",
    "    def add_cancel(self, app):\n",
    "        app.current_status = StatusType.canceled\n",
    "        self.cancelation += 1\n",
    "        \n",
    "    def get_Potk(self):\n",
    "        return self.cancelation / self.all_requests_amount\n",
    "    \n",
    "    def get_Pi(self):\n",
    "        states = list(range(self.channels_count + self.queue_amount + 1))\n",
    "        pi = np.zeros(len(states))\n",
    "        for req in self.current_apps:\n",
    "            pi[req] += 1\n",
    "        \n",
    "        return states, pi    "
   ]
  },
  {
   "cell_type": "code",
   "execution_count": 6,
   "metadata": {},
   "outputs": [],
   "source": [
    "n = 5\n",
    "m = 2\n",
    "X = 8\n",
    "Y = 2\n",
    "Z = 7\n",
    "smo = SMO(n, m, X, Y, Z, 2000)"
   ]
  },
  {
   "cell_type": "code",
   "execution_count": 7,
   "metadata": {},
   "outputs": [],
   "source": [
    "smo.run()"
   ]
  },
  {
   "cell_type": "markdown",
   "metadata": {},
   "source": [
    "### Финальные вероятности "
   ]
  },
  {
   "cell_type": "code",
   "execution_count": 8,
   "metadata": {},
   "outputs": [],
   "source": [
    "states, Pi = smo.get_Pi()"
   ]
  },
  {
   "cell_type": "code",
   "execution_count": 9,
   "metadata": {},
   "outputs": [
    {
     "name": "stdout",
     "output_type": "stream",
     "text": [
      "sum(Pi) =\t 1.0\n"
     ]
    },
    {
     "data": {
      "text/html": [
       "<div>\n",
       "<style scoped>\n",
       "    .dataframe tbody tr th:only-of-type {\n",
       "        vertical-align: middle;\n",
       "    }\n",
       "\n",
       "    .dataframe tbody tr th {\n",
       "        vertical-align: top;\n",
       "    }\n",
       "\n",
       "    .dataframe thead th {\n",
       "        text-align: right;\n",
       "    }\n",
       "</style>\n",
       "<table border=\"1\" class=\"dataframe\">\n",
       "  <thead>\n",
       "    <tr style=\"text-align: right;\">\n",
       "      <th></th>\n",
       "      <th>P0</th>\n",
       "      <th>P1</th>\n",
       "      <th>P2</th>\n",
       "      <th>P3</th>\n",
       "      <th>P4</th>\n",
       "      <th>P5</th>\n",
       "      <th>P6</th>\n",
       "      <th>P7</th>\n",
       "    </tr>\n",
       "  </thead>\n",
       "  <tbody>\n",
       "    <tr>\n",
       "      <th>Фин. вероятности</th>\n",
       "      <td>0.007008</td>\n",
       "      <td>0.045171</td>\n",
       "      <td>0.103551</td>\n",
       "      <td>0.193034</td>\n",
       "      <td>0.241453</td>\n",
       "      <td>0.234567</td>\n",
       "      <td>0.125143</td>\n",
       "      <td>0.050073</td>\n",
       "    </tr>\n",
       "  </tbody>\n",
       "</table>\n",
       "</div>"
      ],
      "text/plain": [
       "                        P0        P1        P2        P3        P4        P5  \\\n",
       "Фин. вероятности  0.007008  0.045171  0.103551  0.193034  0.241453  0.234567   \n",
       "\n",
       "                        P6        P7  \n",
       "Фин. вероятности  0.125143  0.050073  "
      ]
     },
     "execution_count": 9,
     "metadata": {},
     "output_type": "execute_result"
    }
   ],
   "source": [
    "table = pd.DataFrame(index=['Фин. вероятности'])\n",
    "for i, num in enumerate(Pi):\n",
    "    table[f'P{states[i]}'] = [num / sum(Pi)]\n",
    "\n",
    "print('sum(Pi) =\\t', sum([i / sum(Pi) for i in Pi]))\n",
    "\n",
    "table"
   ]
  },
  {
   "cell_type": "code",
   "execution_count": 10,
   "metadata": {},
   "outputs": [],
   "source": [
    "def get_plot(states, vals, title='Финальные вероятности состояний'):\n",
    "    fig, ax = plt.subplots()\n",
    "\n",
    "    ax.bar(states, [i / sum(vals) for i in vals], color='cyan', label='Эмпирические')\n",
    "\n",
    "    ax.set_facecolor('seashell')\n",
    "    ax.set_title(title)\n",
    "    fig.set_figwidth(12)    #  ширина Figure\n",
    "    fig.set_figheight(6)    #  высота Figure\n",
    "    fig.set_facecolor('floralwhite')\n",
    "\n",
    "    plt.legend()\n",
    "    plt.show()"
   ]
  },
  {
   "cell_type": "code",
   "execution_count": 11,
   "metadata": {},
   "outputs": [
    {
     "data": {
      "image/png": "[encoded data removed]",
      "text/plain": [
       "<Figure size 864x432 with 1 Axes>"
      ]
     },
     "metadata": {},
     "output_type": "display_data"
    }
   ],
   "source": [
    "get_plot(states, Pi)"
   ]
  },
  {
   "cell_type": "markdown",
   "metadata": {},
   "source": [
    "### Относительная пропускная способность"
   ]
  },
  {
   "cell_type": "code",
   "execution_count": 12,
   "metadata": {},
   "outputs": [],
   "source": [
    "def get_Q():\n",
    "    Q = 1 - P_otk\n",
    "    print(f'Относительная пропускная способность Q =\\t{Q}')\n",
    "    return Q"
   ]
  },
  {
   "cell_type": "markdown",
   "metadata": {},
   "source": [
    "###  Абсолютная пропускная способность"
   ]
  },
  {
   "cell_type": "code",
   "execution_count": 13,
   "metadata": {},
   "outputs": [],
   "source": [
    "def get_A():\n",
    "    A = Q * X\n",
    "    print(f'Абсолютная пропускная способность A =\\t{A}')\n",
    "    return A"
   ]
  },
  {
   "cell_type": "markdown",
   "metadata": {},
   "source": [
    "### Вероятность отказа "
   ]
  },
  {
   "cell_type": "code",
   "execution_count": 14,
   "metadata": {},
   "outputs": [
    {
     "name": "stdout",
     "output_type": "stream",
     "text": [
      "Вероятность отказа Pотк =\t0.0555\n"
     ]
    }
   ],
   "source": [
    "P_otk = smo.get_Potk()\n",
    "print(f'Вероятность отказа Pотк =\\t{P_otk}')"
   ]
  },
  {
   "cell_type": "code",
   "execution_count": 15,
   "metadata": {},
   "outputs": [
    {
     "name": "stdout",
     "output_type": "stream",
     "text": [
      "Относительная пропускная способность Q =\t0.9445\n"
     ]
    }
   ],
   "source": [
    "Q = get_Q()"
   ]
  },
  {
   "cell_type": "code",
   "execution_count": 16,
   "metadata": {},
   "outputs": [
    {
     "name": "stdout",
     "output_type": "stream",
     "text": [
      "Абсолютная пропускная способность A =\t7.556\n"
     ]
    }
   ],
   "source": [
    "A = get_A()"
   ]
  },
  {
   "cell_type": "markdown",
   "metadata": {},
   "source": [
    "### Среднее число занятых каналов "
   ]
  },
  {
   "cell_type": "code",
   "execution_count": 17,
   "metadata": {},
   "outputs": [],
   "source": [
    "def get_k():\n",
    "    k = np.mean(smo.working_channels)\n",
    "    print('Среднее число занятых каналов k =\\t', k)\n",
    "    return k"
   ]
  },
  {
   "cell_type": "code",
   "execution_count": 18,
   "metadata": {},
   "outputs": [
    {
     "name": "stdout",
     "output_type": "stream",
     "text": [
      "Среднее число занятых каналов k =\t 3.8461041739901267\n"
     ]
    }
   ],
   "source": [
    "k = get_k()"
   ]
  },
  {
   "cell_type": "code",
   "execution_count": 19,
   "metadata": {},
   "outputs": [
    {
     "data": {
      "text/html": [
       "<div>\n",
       "<style scoped>\n",
       "    .dataframe tbody tr th:only-of-type {\n",
       "        vertical-align: middle;\n",
       "    }\n",
       "\n",
       "    .dataframe tbody tr th {\n",
       "        vertical-align: top;\n",
       "    }\n",
       "\n",
       "    .dataframe thead th {\n",
       "        text-align: right;\n",
       "    }\n",
       "</style>\n",
       "<table border=\"1\" class=\"dataframe\">\n",
       "  <thead>\n",
       "    <tr style=\"text-align: right;\">\n",
       "      <th></th>\n",
       "      <th>Pотк</th>\n",
       "      <th>Q</th>\n",
       "      <th>A</th>\n",
       "      <th>k</th>\n",
       "    </tr>\n",
       "  </thead>\n",
       "  <tbody>\n",
       "    <tr>\n",
       "      <th>Характеристики эффективности</th>\n",
       "      <td>0.0555</td>\n",
       "      <td>0.9445</td>\n",
       "      <td>7.556</td>\n",
       "      <td>3.846104</td>\n",
       "    </tr>\n",
       "  </tbody>\n",
       "</table>\n",
       "</div>"
      ],
      "text/plain": [
       "                                Pотк       Q      A         k\n",
       "Характеристики эффективности  0.0555  0.9445  7.556  3.846104"
      ]
     },
     "execution_count": 19,
     "metadata": {},
     "output_type": "execute_result"
    }
   ],
   "source": [
    "table = pd.DataFrame(index=['Характеристики эффективности'])\n",
    "table['Pотк'] = [P_otk]\n",
    "table['Q'] = [Q]\n",
    "table['A'] = [A]\n",
    "table['k'] = [k]\n",
    "\n",
    "table"
   ]
  },
  {
   "cell_type": "code",
   "execution_count": null,
   "metadata": {},
   "outputs": [],
   "source": []
  }
 ],
 "metadata": {
  "kernelspec": {
   "display_name": "Python 3",
   "language": "python",
   "name": "python3"
  },
  "language_info": {
   "codemirror_mode": {
    "name": "ipython",
    "version": 3
   },
   "file_extension": ".py",
   "mimetype": "text/x-python",
   "name": "python",
   "nbconvert_exporter": "python",
   "pygments_lexer": "ipython3",
   "version": "3.8.1"
  }
 },
 "nbformat": 4,
 "nbformat_minor": 5
}
